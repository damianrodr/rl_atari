{
 "cells": [
  {
   "cell_type": "code",
   "execution_count": 1,
   "metadata": {
    "id": "jdEmjyZtQTwG"
   },
   "outputs": [],
   "source": [
    "import os\n",
    "os.environ['TF_CPP_MIN_LOG_LEVEL'] = '3'\n",
    "\n",
    "import random\n",
    "import numpy as np\n",
    "import pandas as pd\n",
    "\n",
    "import tensorflow as tf\n",
    "import keras\n",
    "\n",
    "from collections import deque\n",
    "\n",
    "from tqdm.notebook import tqdm\n",
    "\n",
    "import gymnasium as gym\n",
    "from gymnasium.utils.save_video import save_video\n"
   ]
  },
  {
   "cell_type": "code",
   "execution_count": 2,
   "metadata": {},
   "outputs": [],
   "source": [
    "\n",
    "# Taken from: https://keras.io/examples/keras_recipes/reproducibility_recipes/\n",
    "keras.utils.set_random_seed(812)\n",
    "tf.config.experimental.enable_op_determinism()"
   ]
  },
  {
   "cell_type": "code",
   "execution_count": 3,
   "metadata": {},
   "outputs": [
    {
     "name": "stderr",
     "output_type": "stream",
     "text": [
      "A.L.E: Arcade Learning Environment (version 0.8.1+53f58b7)\n",
      "[Powered by Stella]\n"
     ]
    }
   ],
   "source": [
    "# See https://gymnasium.farama.org/environments/box2d/lunar_lander/\n",
    "\n",
    "# rng for the environment and to reshuffle samples\n",
    "rng = np.random.default_rng(seed=34)\n",
    "\n",
    "env = gym.make(\"ALE/Breakout-v5\")\n",
    "env.np_random = rng"
   ]
  },
  {
   "cell_type": "code",
   "execution_count": 4,
   "metadata": {},
   "outputs": [
    {
     "data": {
      "text/plain": [
       "Box(0, 255, (210, 160, 3), uint8)"
      ]
     },
     "execution_count": 4,
     "metadata": {},
     "output_type": "execute_result"
    }
   ],
   "source": [
    "env.observation_space"
   ]
  },
  {
   "cell_type": "code",
   "execution_count": 5,
   "metadata": {},
   "outputs": [],
   "source": [
    "STATE_SHAPE = env.observation_space.shape   # Dimension of the state array\n",
    "N_ACTIONS = env.action_space.n              # Number of possible actions (0: do nothing, 1: fire, 2: right, 3: left)\n",
    "\n",
    "N_EPISODES = 50              # Number of episodes to run for training \n",
    "MEMORY_BUFFER = 100_000         # Experience memory size  \n",
    "BATCH_SIZE = 64                 # Batch size for neural network training \n",
    "UPDATE_STEP = 4                 # Number of steps to update target model\n",
    "\n",
    "TAU =  0.05                    # Parameter for the soft update of the weights \n",
    "GAMMA = 0.995                    # Discount factor for the calculation of the return "
   ]
  },
  {
   "cell_type": "code",
   "execution_count": 6,
   "metadata": {},
   "outputs": [],
   "source": [
    "EPSILON_INTERVALS = [(200, .9), (400, .5), (600, .3), (1000, .1)]\n",
    "\n",
    "def get_epsilon(episode):\n",
    "\n",
    "    for l, e in EPSILON_INTERVALS:\n",
    "        if episode <= l:\n",
    "            return e\n",
    "    return 0"
   ]
  },
  {
   "cell_type": "code",
   "execution_count": 7,
   "metadata": {},
   "outputs": [],
   "source": [
    "# Network architecture:\n",
    "#   Input: (210, 160, 3)\n",
    "#   Padding: (1,2) -> (212, 164, 3)\n",
    "#   Convolution: valid, f=5, s=1, 6 filters -> (208, 160, 6)\n",
    "#   Maxpool: f=2, s=2 -> (104, 80, 6)\n",
    "#   Convolution: valid, f=5, s=1, 16 filters -> (100, 76, 16)\n",
    "#   Max pool: f=2, s=2 -> (50, 38, 16)\n",
    "#   Convolution: valid, f=5, s=1, 32 filters - > (46, 34, 32)\n",
    "#   Max pool: f=2, s=2 -> (23, 17, 32)\n",
    "#   Flatten: \n",
    "#   Dense: -> 64\n",
    "#   Dense: -> 4\n",
    "\n",
    "def q_model():\n",
    "\n",
    "    return keras.models.Sequential ([\n",
    "            keras.layers.Input(shape=STATE_SHAPE),\n",
    "            keras.layers.ZeroPadding2D(padding=(1,2)),\n",
    "            keras.layers.Conv2D(6,(5, 5)),\n",
    "            keras.layers.MaxPooling2D(4),\n",
    "            keras.layers.Conv2D(16,(5, 5)),\n",
    "            keras.layers.MaxPooling2D(2),\n",
    "            keras.layers.Conv2D(32,(5, 5)),\n",
    "            keras.layers.MaxPooling2D(2),\n",
    "            keras.layers.Flatten(),\n",
    "            keras.layers.Dense(64, activation='relu'),\n",
    "            keras.layers.Dense(4)\n",
    "        ]) "
   ]
  },
  {
   "cell_type": "code",
   "execution_count": 8,
   "metadata": {},
   "outputs": [],
   "source": [
    "# Model used to select actions. Gets updated every batch\n",
    "q_function = q_model()\n",
    "\n",
    "# Model used to calculate the rewards for the future predictions that are used\n",
    "# in the Bellman equation used as target for the updates of q_function. It is a different\n",
    "# one for stability. Gets updated every UPDATE_STEP\n",
    "q_function_target = q_model()\n",
    "q_function_target.set_weights(q_function.get_weights())\n",
    "\n",
    "loss_function = tf.keras.losses.MeanSquaredError()\n",
    "optimizer = tf.keras.optimizers.Adam()"
   ]
  },
  {
   "cell_type": "code",
   "execution_count": 9,
   "metadata": {},
   "outputs": [
    {
     "data": {
      "text/html": [
       "<pre style=\"white-space:pre;overflow-x:auto;line-height:normal;font-family:Menlo,'DejaVu Sans Mono',consolas,'Courier New',monospace\"><span style=\"font-weight: bold\">Model: \"sequential\"</span>\n",
       "</pre>\n"
      ],
      "text/plain": [
       "\u001b[1mModel: \"sequential\"\u001b[0m\n"
      ]
     },
     "metadata": {},
     "output_type": "display_data"
    },
    {
     "data": {
      "text/html": [
       "<pre style=\"white-space:pre;overflow-x:auto;line-height:normal;font-family:Menlo,'DejaVu Sans Mono',consolas,'Courier New',monospace\">┏━━━━━━━━━━━━━━━━━━━━━━━━━━━━━━━━━┳━━━━━━━━━━━━━━━━━━━━━━━━┳━━━━━━━━━━━━━━━┓\n",
       "┃<span style=\"font-weight: bold\"> Layer (type)                    </span>┃<span style=\"font-weight: bold\"> Output Shape           </span>┃<span style=\"font-weight: bold\">       Param # </span>┃\n",
       "┡━━━━━━━━━━━━━━━━━━━━━━━━━━━━━━━━━╇━━━━━━━━━━━━━━━━━━━━━━━━╇━━━━━━━━━━━━━━━┩\n",
       "│ zero_padding2d (<span style=\"color: #0087ff; text-decoration-color: #0087ff\">ZeroPadding2D</span>)  │ (<span style=\"color: #00d7ff; text-decoration-color: #00d7ff\">None</span>, <span style=\"color: #00af00; text-decoration-color: #00af00\">212</span>, <span style=\"color: #00af00; text-decoration-color: #00af00\">164</span>, <span style=\"color: #00af00; text-decoration-color: #00af00\">3</span>)    │             <span style=\"color: #00af00; text-decoration-color: #00af00\">0</span> │\n",
       "├─────────────────────────────────┼────────────────────────┼───────────────┤\n",
       "│ conv2d (<span style=\"color: #0087ff; text-decoration-color: #0087ff\">Conv2D</span>)                 │ (<span style=\"color: #00d7ff; text-decoration-color: #00d7ff\">None</span>, <span style=\"color: #00af00; text-decoration-color: #00af00\">208</span>, <span style=\"color: #00af00; text-decoration-color: #00af00\">160</span>, <span style=\"color: #00af00; text-decoration-color: #00af00\">6</span>)    │           <span style=\"color: #00af00; text-decoration-color: #00af00\">456</span> │\n",
       "├─────────────────────────────────┼────────────────────────┼───────────────┤\n",
       "│ max_pooling2d (<span style=\"color: #0087ff; text-decoration-color: #0087ff\">MaxPooling2D</span>)    │ (<span style=\"color: #00d7ff; text-decoration-color: #00d7ff\">None</span>, <span style=\"color: #00af00; text-decoration-color: #00af00\">52</span>, <span style=\"color: #00af00; text-decoration-color: #00af00\">40</span>, <span style=\"color: #00af00; text-decoration-color: #00af00\">6</span>)      │             <span style=\"color: #00af00; text-decoration-color: #00af00\">0</span> │\n",
       "├─────────────────────────────────┼────────────────────────┼───────────────┤\n",
       "│ conv2d_1 (<span style=\"color: #0087ff; text-decoration-color: #0087ff\">Conv2D</span>)               │ (<span style=\"color: #00d7ff; text-decoration-color: #00d7ff\">None</span>, <span style=\"color: #00af00; text-decoration-color: #00af00\">48</span>, <span style=\"color: #00af00; text-decoration-color: #00af00\">36</span>, <span style=\"color: #00af00; text-decoration-color: #00af00\">16</span>)     │         <span style=\"color: #00af00; text-decoration-color: #00af00\">2,416</span> │\n",
       "├─────────────────────────────────┼────────────────────────┼───────────────┤\n",
       "│ max_pooling2d_1 (<span style=\"color: #0087ff; text-decoration-color: #0087ff\">MaxPooling2D</span>)  │ (<span style=\"color: #00d7ff; text-decoration-color: #00d7ff\">None</span>, <span style=\"color: #00af00; text-decoration-color: #00af00\">24</span>, <span style=\"color: #00af00; text-decoration-color: #00af00\">18</span>, <span style=\"color: #00af00; text-decoration-color: #00af00\">16</span>)     │             <span style=\"color: #00af00; text-decoration-color: #00af00\">0</span> │\n",
       "├─────────────────────────────────┼────────────────────────┼───────────────┤\n",
       "│ conv2d_2 (<span style=\"color: #0087ff; text-decoration-color: #0087ff\">Conv2D</span>)               │ (<span style=\"color: #00d7ff; text-decoration-color: #00d7ff\">None</span>, <span style=\"color: #00af00; text-decoration-color: #00af00\">20</span>, <span style=\"color: #00af00; text-decoration-color: #00af00\">14</span>, <span style=\"color: #00af00; text-decoration-color: #00af00\">32</span>)     │        <span style=\"color: #00af00; text-decoration-color: #00af00\">12,832</span> │\n",
       "├─────────────────────────────────┼────────────────────────┼───────────────┤\n",
       "│ max_pooling2d_2 (<span style=\"color: #0087ff; text-decoration-color: #0087ff\">MaxPooling2D</span>)  │ (<span style=\"color: #00d7ff; text-decoration-color: #00d7ff\">None</span>, <span style=\"color: #00af00; text-decoration-color: #00af00\">10</span>, <span style=\"color: #00af00; text-decoration-color: #00af00\">7</span>, <span style=\"color: #00af00; text-decoration-color: #00af00\">32</span>)      │             <span style=\"color: #00af00; text-decoration-color: #00af00\">0</span> │\n",
       "├─────────────────────────────────┼────────────────────────┼───────────────┤\n",
       "│ flatten (<span style=\"color: #0087ff; text-decoration-color: #0087ff\">Flatten</span>)               │ (<span style=\"color: #00d7ff; text-decoration-color: #00d7ff\">None</span>, <span style=\"color: #00af00; text-decoration-color: #00af00\">2240</span>)           │             <span style=\"color: #00af00; text-decoration-color: #00af00\">0</span> │\n",
       "├─────────────────────────────────┼────────────────────────┼───────────────┤\n",
       "│ dense (<span style=\"color: #0087ff; text-decoration-color: #0087ff\">Dense</span>)                   │ (<span style=\"color: #00d7ff; text-decoration-color: #00d7ff\">None</span>, <span style=\"color: #00af00; text-decoration-color: #00af00\">64</span>)             │       <span style=\"color: #00af00; text-decoration-color: #00af00\">143,424</span> │\n",
       "├─────────────────────────────────┼────────────────────────┼───────────────┤\n",
       "│ dense_1 (<span style=\"color: #0087ff; text-decoration-color: #0087ff\">Dense</span>)                 │ (<span style=\"color: #00d7ff; text-decoration-color: #00d7ff\">None</span>, <span style=\"color: #00af00; text-decoration-color: #00af00\">4</span>)              │           <span style=\"color: #00af00; text-decoration-color: #00af00\">260</span> │\n",
       "└─────────────────────────────────┴────────────────────────┴───────────────┘\n",
       "</pre>\n"
      ],
      "text/plain": [
       "┏━━━━━━━━━━━━━━━━━━━━━━━━━━━━━━━━━┳━━━━━━━━━━━━━━━━━━━━━━━━┳━━━━━━━━━━━━━━━┓\n",
       "┃\u001b[1m \u001b[0m\u001b[1mLayer (type)                   \u001b[0m\u001b[1m \u001b[0m┃\u001b[1m \u001b[0m\u001b[1mOutput Shape          \u001b[0m\u001b[1m \u001b[0m┃\u001b[1m \u001b[0m\u001b[1m      Param #\u001b[0m\u001b[1m \u001b[0m┃\n",
       "┡━━━━━━━━━━━━━━━━━━━━━━━━━━━━━━━━━╇━━━━━━━━━━━━━━━━━━━━━━━━╇━━━━━━━━━━━━━━━┩\n",
       "│ zero_padding2d (\u001b[38;5;33mZeroPadding2D\u001b[0m)  │ (\u001b[38;5;45mNone\u001b[0m, \u001b[38;5;34m212\u001b[0m, \u001b[38;5;34m164\u001b[0m, \u001b[38;5;34m3\u001b[0m)    │             \u001b[38;5;34m0\u001b[0m │\n",
       "├─────────────────────────────────┼────────────────────────┼───────────────┤\n",
       "│ conv2d (\u001b[38;5;33mConv2D\u001b[0m)                 │ (\u001b[38;5;45mNone\u001b[0m, \u001b[38;5;34m208\u001b[0m, \u001b[38;5;34m160\u001b[0m, \u001b[38;5;34m6\u001b[0m)    │           \u001b[38;5;34m456\u001b[0m │\n",
       "├─────────────────────────────────┼────────────────────────┼───────────────┤\n",
       "│ max_pooling2d (\u001b[38;5;33mMaxPooling2D\u001b[0m)    │ (\u001b[38;5;45mNone\u001b[0m, \u001b[38;5;34m52\u001b[0m, \u001b[38;5;34m40\u001b[0m, \u001b[38;5;34m6\u001b[0m)      │             \u001b[38;5;34m0\u001b[0m │\n",
       "├─────────────────────────────────┼────────────────────────┼───────────────┤\n",
       "│ conv2d_1 (\u001b[38;5;33mConv2D\u001b[0m)               │ (\u001b[38;5;45mNone\u001b[0m, \u001b[38;5;34m48\u001b[0m, \u001b[38;5;34m36\u001b[0m, \u001b[38;5;34m16\u001b[0m)     │         \u001b[38;5;34m2,416\u001b[0m │\n",
       "├─────────────────────────────────┼────────────────────────┼───────────────┤\n",
       "│ max_pooling2d_1 (\u001b[38;5;33mMaxPooling2D\u001b[0m)  │ (\u001b[38;5;45mNone\u001b[0m, \u001b[38;5;34m24\u001b[0m, \u001b[38;5;34m18\u001b[0m, \u001b[38;5;34m16\u001b[0m)     │             \u001b[38;5;34m0\u001b[0m │\n",
       "├─────────────────────────────────┼────────────────────────┼───────────────┤\n",
       "│ conv2d_2 (\u001b[38;5;33mConv2D\u001b[0m)               │ (\u001b[38;5;45mNone\u001b[0m, \u001b[38;5;34m20\u001b[0m, \u001b[38;5;34m14\u001b[0m, \u001b[38;5;34m32\u001b[0m)     │        \u001b[38;5;34m12,832\u001b[0m │\n",
       "├─────────────────────────────────┼────────────────────────┼───────────────┤\n",
       "│ max_pooling2d_2 (\u001b[38;5;33mMaxPooling2D\u001b[0m)  │ (\u001b[38;5;45mNone\u001b[0m, \u001b[38;5;34m10\u001b[0m, \u001b[38;5;34m7\u001b[0m, \u001b[38;5;34m32\u001b[0m)      │             \u001b[38;5;34m0\u001b[0m │\n",
       "├─────────────────────────────────┼────────────────────────┼───────────────┤\n",
       "│ flatten (\u001b[38;5;33mFlatten\u001b[0m)               │ (\u001b[38;5;45mNone\u001b[0m, \u001b[38;5;34m2240\u001b[0m)           │             \u001b[38;5;34m0\u001b[0m │\n",
       "├─────────────────────────────────┼────────────────────────┼───────────────┤\n",
       "│ dense (\u001b[38;5;33mDense\u001b[0m)                   │ (\u001b[38;5;45mNone\u001b[0m, \u001b[38;5;34m64\u001b[0m)             │       \u001b[38;5;34m143,424\u001b[0m │\n",
       "├─────────────────────────────────┼────────────────────────┼───────────────┤\n",
       "│ dense_1 (\u001b[38;5;33mDense\u001b[0m)                 │ (\u001b[38;5;45mNone\u001b[0m, \u001b[38;5;34m4\u001b[0m)              │           \u001b[38;5;34m260\u001b[0m │\n",
       "└─────────────────────────────────┴────────────────────────┴───────────────┘\n"
      ]
     },
     "metadata": {},
     "output_type": "display_data"
    },
    {
     "data": {
      "text/html": [
       "<pre style=\"white-space:pre;overflow-x:auto;line-height:normal;font-family:Menlo,'DejaVu Sans Mono',consolas,'Courier New',monospace\"><span style=\"font-weight: bold\"> Total params: </span><span style=\"color: #00af00; text-decoration-color: #00af00\">159,388</span> (622.61 KB)\n",
       "</pre>\n"
      ],
      "text/plain": [
       "\u001b[1m Total params: \u001b[0m\u001b[38;5;34m159,388\u001b[0m (622.61 KB)\n"
      ]
     },
     "metadata": {},
     "output_type": "display_data"
    },
    {
     "data": {
      "text/html": [
       "<pre style=\"white-space:pre;overflow-x:auto;line-height:normal;font-family:Menlo,'DejaVu Sans Mono',consolas,'Courier New',monospace\"><span style=\"font-weight: bold\"> Trainable params: </span><span style=\"color: #00af00; text-decoration-color: #00af00\">159,388</span> (622.61 KB)\n",
       "</pre>\n"
      ],
      "text/plain": [
       "\u001b[1m Trainable params: \u001b[0m\u001b[38;5;34m159,388\u001b[0m (622.61 KB)\n"
      ]
     },
     "metadata": {},
     "output_type": "display_data"
    },
    {
     "data": {
      "text/html": [
       "<pre style=\"white-space:pre;overflow-x:auto;line-height:normal;font-family:Menlo,'DejaVu Sans Mono',consolas,'Courier New',monospace\"><span style=\"font-weight: bold\"> Non-trainable params: </span><span style=\"color: #00af00; text-decoration-color: #00af00\">0</span> (0.00 B)\n",
       "</pre>\n"
      ],
      "text/plain": [
       "\u001b[1m Non-trainable params: \u001b[0m\u001b[38;5;34m0\u001b[0m (0.00 B)\n"
      ]
     },
     "metadata": {},
     "output_type": "display_data"
    }
   ],
   "source": [
    "q_function.summary()"
   ]
  },
  {
   "cell_type": "code",
   "execution_count": 10,
   "metadata": {},
   "outputs": [],
   "source": [
    "def get_samples(memory, sample_size):\n",
    "\n",
    "  samples = random.sample(memory, sample_size)\n",
    "  \n",
    "  states, actions, states_next, rewards, terminated, truncated = zip(*samples)\n",
    "\n",
    "  states = tf.convert_to_tensor(states, dtype='float32')\n",
    "  actions = np.array(actions, dtype='int32')\n",
    "  states_next = tf.convert_to_tensor(states_next, dtype='float32')\n",
    "  rewards = np.array(rewards, dtype='float32')\n",
    "  terminated = np.array(terminated, dtype='float32')\n",
    "\n",
    "  return states, actions, states_next, rewards, terminated"
   ]
  },
  {
   "cell_type": "code",
   "execution_count": 11,
   "metadata": {},
   "outputs": [],
   "source": [
    "# Train step\n",
    "\n",
    "@tf.function\n",
    "def train_step(samples, q_function, q_function_target):\n",
    "\n",
    "  states, actions, states_next, rewards, terminated = samples\n",
    "\n",
    "  # Use q_function_target to calculate Q(state_prime, action) used in Bellman equation\n",
    "  max_qsa = tf.math.reduce_max(q_function_target(states_next, training=False), axis=1)\n",
    "\n",
    "  # Bellman equation\n",
    "  # For terminated states, q_value is just the reward\n",
    "  qvalues_target = (rewards + (1 - terminated) * GAMMA * max_qsa)\n",
    "\n",
    "  # Calculate mask so loss is calculated only on the action taken\n",
    "  mask = tf.one_hot(actions, N_ACTIONS) \n",
    "\n",
    "  with tf.GradientTape() as tape:\n",
    "\n",
    "    # Run model\n",
    "    qvalues_predictions = tf.reduce_max(\n",
    "      tf.multiply(q_function(states, training=True), mask), axis=1)\n",
    "\n",
    "    # Calculate loss\n",
    "    loss = loss_function(qvalues_target, qvalues_predictions)\n",
    "\n",
    "  # Back propagation\n",
    "  grads = tape.gradient(loss, q_function.trainable_variables)\n",
    "  optimizer.apply_gradients(zip(grads, q_function.trainable_variables))\n",
    "\n",
    "  return loss\n"
   ]
  },
  {
   "cell_type": "code",
   "execution_count": 12,
   "metadata": {},
   "outputs": [
    {
     "data": {
      "application/vnd.jupyter.widget-view+json": {
       "model_id": "fc59eda618e34f02a618f220c43524ac",
       "version_major": 2,
       "version_minor": 0
      },
      "text/plain": [
       "Episode:   0%|          | 0/50 [00:00<?, ?it/s]"
      ]
     },
     "metadata": {},
     "output_type": "display_data"
    },
    {
     "ename": "KeyboardInterrupt",
     "evalue": "",
     "output_type": "error",
     "traceback": [
      "\u001b[0;31m---------------------------------------------------------------------------\u001b[0m",
      "\u001b[0;31mKeyboardInterrupt\u001b[0m                         Traceback (most recent call last)",
      "Cell \u001b[0;32mIn[12], line 41\u001b[0m\n\u001b[1;32m     38\u001b[0m samples \u001b[38;5;241m=\u001b[39m get_samples(memory, BATCH_SIZE)\n\u001b[1;32m     40\u001b[0m \u001b[38;5;66;03m# Train network\u001b[39;00m\n\u001b[0;32m---> 41\u001b[0m loss \u001b[38;5;241m=\u001b[39m \u001b[43mtrain_step\u001b[49m(samples, q_function, q_function_target)\n\u001b[1;32m     43\u001b[0m loss_hist\u001b[38;5;241m.\u001b[39mappend(loss)\n\u001b[1;32m     45\u001b[0m \u001b[38;5;66;03m# Update target model\u001b[39;00m\n",
      "Cell \u001b[0;32mIn[12], line 41\u001b[0m\n\u001b[1;32m     38\u001b[0m samples \u001b[38;5;241m=\u001b[39m get_samples(memory, BATCH_SIZE)\n\u001b[1;32m     40\u001b[0m \u001b[38;5;66;03m# Train network\u001b[39;00m\n\u001b[0;32m---> 41\u001b[0m loss \u001b[38;5;241m=\u001b[39m \u001b[43mtrain_step\u001b[49m(samples, q_function, q_function_target)\n\u001b[1;32m     43\u001b[0m loss_hist\u001b[38;5;241m.\u001b[39mappend(loss)\n\u001b[1;32m     45\u001b[0m \u001b[38;5;66;03m# Update target model\u001b[39;00m\n",
      "File \u001b[0;32m_pydevd_bundle/pydevd_cython.pyx:1457\u001b[0m, in \u001b[0;36m_pydevd_bundle.pydevd_cython.SafeCallWrapper.__call__\u001b[0;34m()\u001b[0m\n",
      "File \u001b[0;32m_pydevd_bundle/pydevd_cython.pyx:701\u001b[0m, in \u001b[0;36m_pydevd_bundle.pydevd_cython.PyDBFrame.trace_dispatch\u001b[0;34m()\u001b[0m\n",
      "File \u001b[0;32m_pydevd_bundle/pydevd_cython.pyx:1395\u001b[0m, in \u001b[0;36m_pydevd_bundle.pydevd_cython.PyDBFrame.trace_dispatch\u001b[0;34m()\u001b[0m\n",
      "File \u001b[0;32m_pydevd_bundle/pydevd_cython.pyx:1344\u001b[0m, in \u001b[0;36m_pydevd_bundle.pydevd_cython.PyDBFrame.trace_dispatch\u001b[0;34m()\u001b[0m\n",
      "File \u001b[0;32m_pydevd_bundle/pydevd_cython.pyx:312\u001b[0m, in \u001b[0;36m_pydevd_bundle.pydevd_cython.PyDBFrame.do_wait_suspend\u001b[0;34m()\u001b[0m\n",
      "File \u001b[0;32m~/sandbox/atari/.venv/lib/python3.10/site-packages/debugpy/_vendored/pydevd/pydevd.py:2070\u001b[0m, in \u001b[0;36mPyDB.do_wait_suspend\u001b[0;34m(self, thread, frame, event, arg, exception_type)\u001b[0m\n\u001b[1;32m   2067\u001b[0m             from_this_thread\u001b[38;5;241m.\u001b[39mappend(frame_custom_thread_id)\n\u001b[1;32m   2069\u001b[0m     \u001b[38;5;28;01mwith\u001b[39;00m \u001b[38;5;28mself\u001b[39m\u001b[38;5;241m.\u001b[39m_threads_suspended_single_notification\u001b[38;5;241m.\u001b[39mnotify_thread_suspended(thread_id, thread, stop_reason):\n\u001b[0;32m-> 2070\u001b[0m         keep_suspended \u001b[38;5;241m=\u001b[39m \u001b[38;5;28;43mself\u001b[39;49m\u001b[38;5;241;43m.\u001b[39;49m\u001b[43m_do_wait_suspend\u001b[49m\u001b[43m(\u001b[49m\u001b[43mthread\u001b[49m\u001b[43m,\u001b[49m\u001b[43m \u001b[49m\u001b[43mframe\u001b[49m\u001b[43m,\u001b[49m\u001b[43m \u001b[49m\u001b[43mevent\u001b[49m\u001b[43m,\u001b[49m\u001b[43m \u001b[49m\u001b[43marg\u001b[49m\u001b[43m,\u001b[49m\u001b[43m \u001b[49m\u001b[43msuspend_type\u001b[49m\u001b[43m,\u001b[49m\u001b[43m \u001b[49m\u001b[43mfrom_this_thread\u001b[49m\u001b[43m,\u001b[49m\u001b[43m \u001b[49m\u001b[43mframes_tracker\u001b[49m\u001b[43m)\u001b[49m\n\u001b[1;32m   2072\u001b[0m frames_list \u001b[38;5;241m=\u001b[39m \u001b[38;5;28;01mNone\u001b[39;00m\n\u001b[1;32m   2074\u001b[0m \u001b[38;5;28;01mif\u001b[39;00m keep_suspended:\n\u001b[1;32m   2075\u001b[0m     \u001b[38;5;66;03m# This means that we should pause again after a set next statement.\u001b[39;00m\n",
      "File \u001b[0;32m~/sandbox/atari/.venv/lib/python3.10/site-packages/debugpy/_vendored/pydevd/pydevd.py:2106\u001b[0m, in \u001b[0;36mPyDB._do_wait_suspend\u001b[0;34m(self, thread, frame, event, arg, suspend_type, from_this_thread, frames_tracker)\u001b[0m\n\u001b[1;32m   2103\u001b[0m         \u001b[38;5;28mself\u001b[39m\u001b[38;5;241m.\u001b[39m_call_input_hook()\n\u001b[1;32m   2105\u001b[0m     \u001b[38;5;28mself\u001b[39m\u001b[38;5;241m.\u001b[39mprocess_internal_commands()\n\u001b[0;32m-> 2106\u001b[0m     \u001b[43mtime\u001b[49m\u001b[38;5;241;43m.\u001b[39;49m\u001b[43msleep\u001b[49m\u001b[43m(\u001b[49m\u001b[38;5;241;43m0.01\u001b[39;49m\u001b[43m)\u001b[49m\n\u001b[1;32m   2108\u001b[0m \u001b[38;5;28mself\u001b[39m\u001b[38;5;241m.\u001b[39mcancel_async_evaluation(get_current_thread_id(thread), \u001b[38;5;28mstr\u001b[39m(\u001b[38;5;28mid\u001b[39m(frame)))\n\u001b[1;32m   2110\u001b[0m \u001b[38;5;66;03m# process any stepping instructions\u001b[39;00m\n",
      "\u001b[0;31mKeyboardInterrupt\u001b[0m: "
     ]
    }
   ],
   "source": [
    "\n",
    "memory = deque(maxlen=MEMORY_BUFFER) \n",
    "loss_hist = []\n",
    "reward_hist = []\n",
    "duration_hist = []\n",
    "step = 0                # Step counter\n",
    "episode = 0             # Episode counter\n",
    "episode_reward = 0      # To accumulate the rewards of the episode\n",
    "episode_duration = 0    # To keep a step count for the episode\n",
    "\n",
    "state, _ = env.reset()\n",
    "epsilon = get_epsilon(episode)\n",
    "\n",
    "pbar = tqdm(desc=\"Episode\", total=N_EPISODES)\n",
    "while episode < N_EPISODES:\n",
    "\n",
    "    # take action using e-greedy selection\n",
    "    if rng.choice([True, False], p=[epsilon, 1 - epsilon]): \n",
    "        action = rng.choice(N_ACTIONS)\n",
    "    else:\n",
    "        # Use Q function to select next action\n",
    "        state_tensor = tf.convert_to_tensor(state, dtype='float32')\n",
    "        state_tensor = tf.expand_dims(state_tensor, 0)\n",
    "        qvalue_predictions = q_function(state_tensor, training=False)\n",
    "\n",
    "        action = np.argmax(qvalue_predictions[0])\n",
    "\n",
    "    state_next, reward, terminated, truncated, _ = env.step(action)\n",
    "\n",
    "    memory.append((state, action, state_next, reward, terminated, truncated))\n",
    "\n",
    "    update = (step + 1 >= BATCH_SIZE) and not ((step + 1) % UPDATE_STEP)\n",
    "    if update:\n",
    "        #\n",
    "        # Update q-function\n",
    "        #\n",
    "\n",
    "        samples = get_samples(memory, BATCH_SIZE)\n",
    "\n",
    "        # Train network\n",
    "        loss = train_step(samples, q_function, q_function_target)\n",
    "        \n",
    "        loss_hist.append(loss)\n",
    "\n",
    "        # Update target model\n",
    "        new_weights = []\n",
    "        for new_w, old_w in zip(q_function.get_weights(), q_function_target.get_weights()):\n",
    "            new_weights.append(TAU * new_w + (1 - TAU) * old_w)\n",
    "\n",
    "        q_function_target.set_weights(new_weights)\n",
    "\n",
    "    step += 1\n",
    "    episode_duration += 1\n",
    "    episode_reward += reward\n",
    "    if terminated or truncated:\n",
    "        # Experiment ended, reset the environment\n",
    "        state, _ = env.reset()\n",
    "\n",
    "        episode += 1\n",
    "        reward_hist.append(episode_reward)\n",
    "        duration_hist.append(episode_duration)\n",
    "        episode_reward = 0\n",
    "        episode_duration = 0\n",
    "        epsilon = get_epsilon(episode)\n",
    "        pbar.update(1)\n",
    "    else:\n",
    "        state = state_next\n",
    "\n",
    "pbar.close()"
   ]
  },
  {
   "cell_type": "code",
   "execution_count": null,
   "metadata": {},
   "outputs": [],
   "source": [
    "loss_df = pd.Series(loss_hist)\n",
    "loss_df.rolling(window=500).mean().plot()"
   ]
  },
  {
   "cell_type": "code",
   "execution_count": 13,
   "metadata": {},
   "outputs": [
    {
     "data": {
      "text/plain": [
       "array([[<Axes: >, <Axes: >]], dtype=object)"
      ]
     },
     "execution_count": 13,
     "metadata": {},
     "output_type": "execute_result"
    },
    {
     "data": {
      "image/png": "[encoded data removed]",
      "text/plain": [
       "<Figure size 1000x500 with 2 Axes>"
      ]
     },
     "metadata": {},
     "output_type": "display_data"
    }
   ],
   "source": [
    "\n",
    "df_episodes = pd.DataFrame({\n",
    "    \"Reward\": reward_hist,\n",
    "    \"Duration\": duration_hist\n",
    "    })\n",
    "df_episodes.rolling(window=1).mean().plot(subplots=True, layout=(1,2), figsize=(10, 5))"
   ]
  },
  {
   "cell_type": "code",
   "execution_count": null,
   "metadata": {},
   "outputs": [],
   "source": [
    "#keras.saving.save_model(q_function, \"q_function.keras\")"
   ]
  },
  {
   "cell_type": "code",
   "execution_count": null,
   "metadata": {},
   "outputs": [],
   "source": [
    "\n",
    "# Evaluation\n",
    "demo_env = gym.make('LunarLander-v2', render_mode=None)\n",
    "count = 0\n",
    "landed = 0\n",
    "\n",
    "for i in range(100):\n",
    "    state, _ = demo_env.reset()\n",
    "    \n",
    "    cumm_reward = 0\n",
    "    \n",
    "    while True:\n",
    "        state_tensor = tf.convert_to_tensor(state, dtype='float32')\n",
    "        state_tensor = tf.expand_dims(state_tensor, 0)\n",
    "        \n",
    "        state_predictions = q_function(state_tensor, training=False)\n",
    "        \n",
    "        # take action using e-greedy selection    \n",
    "        action = np.argmax(state_predictions[0])\n",
    "        \n",
    "        state, reward, terminated, truncated, _ = demo_env.step(action)\n",
    "\n",
    "        cumm_reward += reward\n",
    "\n",
    "        if terminated or truncated:\n",
    "            if cumm_reward >= 200:\n",
    "                count += 1\n",
    "            if reward == 100:\n",
    "                landed += 1\n",
    "            break\n",
    "    \n",
    "demo_env.close()\n",
    "\n",
    "print (f\"Successful {count}/100\")\n",
    "print (f\"Landed {landed}/100\")"
   ]
  },
  {
   "cell_type": "code",
   "execution_count": null,
   "metadata": {},
   "outputs": [],
   "source": [
    "\n",
    "demo_env = gym.make('LunarLander-v2', render_mode='rgb_array_list')\n",
    "episodes_rewards = []\n",
    "\n",
    "for i in range(10):\n",
    "    state, _ = demo_env.reset()\n",
    "    \n",
    "    this_reward = []\n",
    "    \n",
    "    while True:\n",
    "        state_tensor = tf.convert_to_tensor(state, dtype='float32')\n",
    "        state_tensor = tf.expand_dims(state_tensor, 0)\n",
    "        \n",
    "        state_predictions = q_function(state_tensor, training=False)\n",
    "        \n",
    "        # take action using e-greedy selection\n",
    "        \n",
    "        action = np.argmax(state_predictions[0])\n",
    "        \n",
    "        state, reward, terminated, truncated, _ = demo_env.step(action)\n",
    "                \n",
    "        this_reward.append(reward)\n",
    "\n",
    "        if terminated or truncated:\n",
    "            save_video(\n",
    "                demo_env.render(),\n",
    "                \"videos\",\n",
    "                episode_trigger=(lambda a: True),\n",
    "                fps=demo_env.metadata[\"render_fps\"], \n",
    "                episode_index=i\n",
    "            )\n",
    "\n",
    "            episodes_rewards.append(this_reward)\n",
    "            break\n",
    "    \n",
    "df_rewards = pd.DataFrame(episodes_rewards).transpose()\n",
    "demo_env.close()"
   ]
  },
  {
   "cell_type": "code",
   "execution_count": null,
   "metadata": {},
   "outputs": [],
   "source": [
    "\n",
    "df_rewards.cumsum().plot(subplots=True, layout=(2,5), figsize=(15,5), sharey=True)"
   ]
  },
  {
   "cell_type": "code",
   "execution_count": null,
   "metadata": {},
   "outputs": [],
   "source": []
  }
 ],
 "metadata": {
  "colab": {
   "provenance": []
  },
  "kernelspec": {
   "display_name": "Python 3 (ipykernel)",
   "language": "python",
   "name": "python3"
  },
  "language_info": {
   "codemirror_mode": {
    "name": "ipython",
    "version": 3
   },
   "file_extension": ".py",
   "mimetype": "text/x-python",
   "name": "python",
   "nbconvert_exporter": "python",
   "pygments_lexer": "ipython3",
   "version": "3.10.12"
  }
 },
 "nbformat": 4,
 "nbformat_minor": 4
}
